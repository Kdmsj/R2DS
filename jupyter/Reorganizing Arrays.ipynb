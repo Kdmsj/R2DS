{
 "cells": [
  {
   "cell_type": "markdown",
   "id": "1cf526e1-32c0-4807-9566-5e08fef8f085",
   "metadata": {},
   "source": [
    "# Reorganizing Arrays #\n"
   ]
  },
  {
   "cell_type": "code",
   "execution_count": 1,
   "id": "97b25758-c7bd-4b9b-ac73-e32130bfa065",
   "metadata": {},
   "outputs": [],
   "source": [
    "import numpy as np"
   ]
  },
  {
   "cell_type": "code",
   "execution_count": 9,
   "id": "0c9bf61d-ac46-4f4f-a237-1b64802ecc3d",
   "metadata": {},
   "outputs": [
    {
     "data": {
      "text/plain": [
       "(2, 4)"
      ]
     },
     "execution_count": 9,
     "metadata": {},
     "output_type": "execute_result"
    }
   ],
   "source": [
    "bef = np.array([[1,2,3,4],[5,6,7,8]])\n",
    "bef.shape"
   ]
  },
  {
   "cell_type": "code",
   "execution_count": 12,
   "id": "18ea6f6f-3fb8-48a8-8099-fe988e56ca08",
   "metadata": {},
   "outputs": [
    {
     "data": {
      "text/plain": [
       "array([[1, 2],\n",
       "       [3, 4],\n",
       "       [5, 6],\n",
       "       [7, 8]])"
      ]
     },
     "execution_count": 12,
     "metadata": {},
     "output_type": "execute_result"
    }
   ],
   "source": [
    "after = bef.reshape((4,2))\n",
    "after"
   ]
  },
  {
   "cell_type": "code",
   "execution_count": 14,
   "id": "118839ac-eb7d-467d-a21c-d19aa00a0b03",
   "metadata": {},
   "outputs": [
    {
     "data": {
      "text/plain": [
       "array([[[1, 2],\n",
       "        [3, 4]],\n",
       "\n",
       "       [[5, 6],\n",
       "        [7, 8]]])"
      ]
     },
     "execution_count": 14,
     "metadata": {},
     "output_type": "execute_result"
    }
   ],
   "source": [
    "af = after.reshape((2,2,2))\n",
    "af"
   ]
  },
  {
   "cell_type": "code",
   "execution_count": 17,
   "id": "19a25c6a-ad0a-4d9e-9d8b-1cea3123c00e",
   "metadata": {},
   "outputs": [],
   "source": [
    "#vertical stacking vectors\n",
    "a = np.array([1,2,3,4])\n",
    "b = np.array([5,6,7,8])"
   ]
  },
  {
   "cell_type": "code",
   "execution_count": 19,
   "id": "42713d8d-de41-4db7-82d5-8cef318e9017",
   "metadata": {},
   "outputs": [
    {
     "data": {
      "text/plain": [
       "array([[1, 2, 3, 4],\n",
       "       [5, 6, 7, 8],\n",
       "       [1, 2, 3, 4],\n",
       "       [5, 6, 7, 8]])"
      ]
     },
     "execution_count": 19,
     "metadata": {},
     "output_type": "execute_result"
    }
   ],
   "source": [
    "np.vstack([a,b,a,b])"
   ]
  },
  {
   "cell_type": "code",
   "execution_count": null,
   "id": "1fda6b50-834c-4f75-ac0a-419b9607a16e",
   "metadata": {},
   "outputs": [],
   "source": [
    "np.hstack([a,])"
   ]
  }
 ],
 "metadata": {
  "kernelspec": {
   "display_name": "Python 3 (ipykernel)",
   "language": "python",
   "name": "python3"
  },
  "language_info": {
   "codemirror_mode": {
    "name": "ipython",
    "version": 3
   },
   "file_extension": ".py",
   "mimetype": "text/x-python",
   "name": "python",
   "nbconvert_exporter": "python",
   "pygments_lexer": "ipython3",
   "version": "3.12.7"
  }
 },
 "nbformat": 4,
 "nbformat_minor": 5
}
