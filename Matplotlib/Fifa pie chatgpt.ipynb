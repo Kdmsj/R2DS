{
 "cells": [
  {
   "cell_type": "code",
   "execution_count": null,
   "id": "c45f1c63-7951-4bff-afd8-c59b2cabcfb0",
   "metadata": {},
   "outputs": [],
   "source": []
  }
 ],
 "metadata": {
  "kernelspec": {
   "display_name": "",
   "name": ""
  },
  "language_info": {
   "name": ""
  }
 },
 "nbformat": 4,
 "nbformat_minor": 5
}
