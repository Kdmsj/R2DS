{
 "cells": [
  {
   "cell_type": "code",
   "execution_count": 1,
   "id": "66ea5bb4-e70d-45c6-87a1-fbd0bc637d02",
   "metadata": {},
   "outputs": [],
   "source": [
    "import matplotlib.pyplot as plt\n",
    "import numpy as np\n",
    "import pandas as pd"
   ]
  },
  {
   "cell_type": "code",
   "execution_count": 2,
   "id": "f539c1dd-c776-4509-89f5-46727a94af21",
   "metadata": {},
   "outputs": [
    {
     "data": {
      "application/vnd.microsoft.datawrangler.viewer.v0+json": {
       "columns": [
        {
         "name": "index",
         "rawType": "int64",
         "type": "integer"
        },
        {
         "name": "Unnamed: 0",
         "rawType": "int64",
         "type": "integer"
        },
        {
         "name": "ID",
         "rawType": "int64",
         "type": "integer"
        },
        {
         "name": "Name",
         "rawType": "object",
         "type": "string"
        },
        {
         "name": "Age",
         "rawType": "int64",
         "type": "integer"
        },
        {
         "name": "Photo",
         "rawType": "object",
         "type": "string"
        },
        {
         "name": "Nationality",
         "rawType": "object",
         "type": "string"
        },
        {
         "name": "Flag",
         "rawType": "object",
         "type": "string"
        },
        {
         "name": "Overall",
         "rawType": "int64",
         "type": "integer"
        },
        {
         "name": "Potential",
         "rawType": "int64",
         "type": "integer"
        },
        {
         "name": "Club",
         "rawType": "object",
         "type": "string"
        },
        {
         "name": "Club Logo",
         "rawType": "object",
         "type": "string"
        },
        {
         "name": "Value",
         "rawType": "object",
         "type": "string"
        },
        {
         "name": "Wage",
         "rawType": "object",
         "type": "string"
        },
        {
         "name": "Special",
         "rawType": "int64",
         "type": "integer"
        },
        {
         "name": "Preferred Foot",
         "rawType": "object",
         "type": "string"
        },
        {
         "name": "International Reputation",
         "rawType": "float64",
         "type": "float"
        },
        {
         "name": "Weak Foot",
         "rawType": "float64",
         "type": "float"
        },
        {
         "name": "Skill Moves",
         "rawType": "float64",
         "type": "float"
        },
        {
         "name": "Work Rate",
         "rawType": "object",
         "type": "string"
        },
        {
         "name": "Body Type",
         "rawType": "object",
         "type": "string"
        },
        {
         "name": "Real Face",
         "rawType": "object",
         "type": "string"
        },
        {
         "name": "Position",
         "rawType": "object",
         "type": "string"
        },
        {
         "name": "Jersey Number",
         "rawType": "float64",
         "type": "float"
        },
        {
         "name": "Joined",
         "rawType": "object",
         "type": "string"
        },
        {
         "name": "Loaned From",
         "rawType": "object",
         "type": "unknown"
        },
        {
         "name": "Contract Valid Until",
         "rawType": "object",
         "type": "string"
        },
        {
         "name": "Height",
         "rawType": "object",
         "type": "string"
        },
        {
         "name": "Weight",
         "rawType": "object",
         "type": "string"
        },
        {
         "name": "LS",
         "rawType": "object",
         "type": "unknown"
        },
        {
         "name": "ST",
         "rawType": "object",
         "type": "unknown"
        },
        {
         "name": "RS",
         "rawType": "object",
         "type": "unknown"
        },
        {
         "name": "LW",
         "rawType": "object",
         "type": "unknown"
        },
        {
         "name": "LF",
         "rawType": "object",
         "type": "unknown"
        },
        {
         "name": "CF",
         "rawType": "object",
         "type": "unknown"
        },
        {
         "name": "RF",
         "rawType": "object",
         "type": "unknown"
        },
        {
         "name": "RW",
         "rawType": "object",
         "type": "unknown"
        },
        {
         "name": "LAM",
         "rawType": "object",
         "type": "unknown"
        },
        {
         "name": "CAM",
         "rawType": "object",
         "type": "unknown"
        },
        {
         "name": "RAM",
         "rawType": "object",
         "type": "unknown"
        },
        {
         "name": "LM",
         "rawType": "object",
         "type": "unknown"
        },
        {
         "name": "LCM",
         "rawType": "object",
         "type": "unknown"
        },
        {
         "name": "CM",
         "rawType": "object",
         "type": "unknown"
        },
        {
         "name": "RCM",
         "rawType": "object",
         "type": "unknown"
        },
        {
         "name": "RM",
         "rawType": "object",
         "type": "unknown"
        },
        {
         "name": "LWB",
         "rawType": "object",
         "type": "unknown"
        },
        {
         "name": "LDM",
         "rawType": "object",
         "type": "unknown"
        },
        {
         "name": "CDM",
         "rawType": "object",
         "type": "unknown"
        },
        {
         "name": "RDM",
         "rawType": "object",
         "type": "unknown"
        },
        {
         "name": "RWB",
         "rawType": "object",
         "type": "unknown"
        },
        {
         "name": "LB",
         "rawType": "object",
         "type": "unknown"
        },
        {
         "name": "LCB",
         "rawType": "object",
         "type": "unknown"
        },
        {
         "name": "CB",
         "rawType": "object",
         "type": "unknown"
        },
        {
         "name": "RCB",
         "rawType": "object",
         "type": "unknown"
        },
        {
         "name": "RB",
         "rawType": "object",
         "type": "unknown"
        },
        {
         "name": "Crossing",
         "rawType": "float64",
         "type": "float"
        },
        {
         "name": "Finishing",
         "rawType": "float64",
         "type": "float"
        },
        {
         "name": "HeadingAccuracy",
         "rawType": "float64",
         "type": "float"
        },
        {
         "name": "ShortPassing",
         "rawType": "float64",
         "type": "float"
        },
        {
         "name": "Volleys",
         "rawType": "float64",
         "type": "float"
        },
        {
         "name": "Dribbling",
         "rawType": "float64",
         "type": "float"
        },
        {
         "name": "Curve",
         "rawType": "float64",
         "type": "float"
        },
        {
         "name": "FKAccuracy",
         "rawType": "float64",
         "type": "float"
        },
        {
         "name": "LongPassing",
         "rawType": "float64",
         "type": "float"
        },
        {
         "name": "BallControl",
         "rawType": "float64",
         "type": "float"
        },
        {
         "name": "Acceleration",
         "rawType": "float64",
         "type": "float"
        },
        {
         "name": "SprintSpeed",
         "rawType": "float64",
         "type": "float"
        },
        {
         "name": "Agility",
         "rawType": "float64",
         "type": "float"
        },
        {
         "name": "Reactions",
         "rawType": "float64",
         "type": "float"
        },
        {
         "name": "Balance",
         "rawType": "float64",
         "type": "float"
        },
        {
         "name": "ShotPower",
         "rawType": "float64",
         "type": "float"
        },
        {
         "name": "Jumping",
         "rawType": "float64",
         "type": "float"
        },
        {
         "name": "Stamina",
         "rawType": "float64",
         "type": "float"
        },
        {
         "name": "Strength",
         "rawType": "float64",
         "type": "float"
        },
        {
         "name": "LongShots",
         "rawType": "float64",
         "type": "float"
        },
        {
         "name": "Aggression",
         "rawType": "float64",
         "type": "float"
        },
        {
         "name": "Interceptions",
         "rawType": "float64",
         "type": "float"
        },
        {
         "name": "Positioning",
         "rawType": "float64",
         "type": "float"
        },
        {
         "name": "Vision",
         "rawType": "float64",
         "type": "float"
        },
        {
         "name": "Penalties",
         "rawType": "float64",
         "type": "float"
        },
        {
         "name": "Composure",
         "rawType": "float64",
         "type": "float"
        },
        {
         "name": "Marking",
         "rawType": "float64",
         "type": "float"
        },
        {
         "name": "StandingTackle",
         "rawType": "float64",
         "type": "float"
        },
        {
         "name": "SlidingTackle",
         "rawType": "float64",
         "type": "float"
        },
        {
         "name": "GKDiving",
         "rawType": "float64",
         "type": "float"
        },
        {
         "name": "GKHandling",
         "rawType": "float64",
         "type": "float"
        },
        {
         "name": "GKKicking",
         "rawType": "float64",
         "type": "float"
        },
        {
         "name": "GKPositioning",
         "rawType": "float64",
         "type": "float"
        },
        {
         "name": "GKReflexes",
         "rawType": "float64",
         "type": "float"
        },
        {
         "name": "Release Clause",
         "rawType": "object",
         "type": "string"
        }
       ],
       "conversionMethod": "pd.DataFrame",
       "ref": "c85a530f-18c3-4d59-a0fb-7e5ff6fe481a",
       "rows": [
        [
         "0",
         "0",
         "158023",
         "L. Messi",
         "31",
         "https://cdn.sofifa.org/players/4/19/158023.png",
         "Argentina",
         "https://cdn.sofifa.org/flags/52.png",
         "94",
         "94",
         "FC Barcelona",
         "https://cdn.sofifa.org/teams/2/light/241.png",
         "€110.5M",
         "€565K",
         "2202",
         "Left",
         "5.0",
         "4.0",
         "4.0",
         "Medium/ Medium",
         "Messi",
         "Yes",
         "RF",
         "10.0",
         "Jul 1, 2004",
         null,
         "2021",
         "5'7",
         "159lbs",
         "88+2",
         "88+2",
         "88+2",
         "92+2",
         "93+2",
         "93+2",
         "93+2",
         "92+2",
         "93+2",
         "93+2",
         "93+2",
         "91+2",
         "84+2",
         "84+2",
         "84+2",
         "91+2",
         "64+2",
         "61+2",
         "61+2",
         "61+2",
         "64+2",
         "59+2",
         "47+2",
         "47+2",
         "47+2",
         "59+2",
         "84.0",
         "95.0",
         "70.0",
         "90.0",
         "86.0",
         "97.0",
         "93.0",
         "94.0",
         "87.0",
         "96.0",
         "91.0",
         "86.0",
         "91.0",
         "95.0",
         "95.0",
         "85.0",
         "68.0",
         "72.0",
         "59.0",
         "94.0",
         "48.0",
         "22.0",
         "94.0",
         "94.0",
         "75.0",
         "96.0",
         "33.0",
         "28.0",
         "26.0",
         "6.0",
         "11.0",
         "15.0",
         "14.0",
         "8.0",
         "€226.5M"
        ],
        [
         "1",
         "1",
         "20801",
         "Cristiano Ronaldo",
         "33",
         "https://cdn.sofifa.org/players/4/19/20801.png",
         "Portugal",
         "https://cdn.sofifa.org/flags/38.png",
         "94",
         "94",
         "Juventus",
         "https://cdn.sofifa.org/teams/2/light/45.png",
         "€77M",
         "€405K",
         "2228",
         "Right",
         "5.0",
         "4.0",
         "5.0",
         "High/ Low",
         "C. Ronaldo",
         "Yes",
         "ST",
         "7.0",
         "Jul 10, 2018",
         null,
         "2022",
         "6'2",
         "183lbs",
         "91+3",
         "91+3",
         "91+3",
         "89+3",
         "90+3",
         "90+3",
         "90+3",
         "89+3",
         "88+3",
         "88+3",
         "88+3",
         "88+3",
         "81+3",
         "81+3",
         "81+3",
         "88+3",
         "65+3",
         "61+3",
         "61+3",
         "61+3",
         "65+3",
         "61+3",
         "53+3",
         "53+3",
         "53+3",
         "61+3",
         "84.0",
         "94.0",
         "89.0",
         "81.0",
         "87.0",
         "88.0",
         "81.0",
         "76.0",
         "77.0",
         "94.0",
         "89.0",
         "91.0",
         "87.0",
         "96.0",
         "70.0",
         "95.0",
         "95.0",
         "88.0",
         "79.0",
         "93.0",
         "63.0",
         "29.0",
         "95.0",
         "82.0",
         "85.0",
         "95.0",
         "28.0",
         "31.0",
         "23.0",
         "7.0",
         "11.0",
         "15.0",
         "14.0",
         "11.0",
         "€127.1M"
        ],
        [
         "2",
         "2",
         "190871",
         "Neymar Jr",
         "26",
         "https://cdn.sofifa.org/players/4/19/190871.png",
         "Brazil",
         "https://cdn.sofifa.org/flags/54.png",
         "92",
         "93",
         "Paris Saint-Germain",
         "https://cdn.sofifa.org/teams/2/light/73.png",
         "€118.5M",
         "€290K",
         "2143",
         "Right",
         "5.0",
         "5.0",
         "5.0",
         "High/ Medium",
         "Neymar",
         "Yes",
         "LW",
         "10.0",
         "Aug 3, 2017",
         null,
         "2022",
         "5'9",
         "150lbs",
         "84+3",
         "84+3",
         "84+3",
         "89+3",
         "89+3",
         "89+3",
         "89+3",
         "89+3",
         "89+3",
         "89+3",
         "89+3",
         "88+3",
         "81+3",
         "81+3",
         "81+3",
         "88+3",
         "65+3",
         "60+3",
         "60+3",
         "60+3",
         "65+3",
         "60+3",
         "47+3",
         "47+3",
         "47+3",
         "60+3",
         "79.0",
         "87.0",
         "62.0",
         "84.0",
         "84.0",
         "96.0",
         "88.0",
         "87.0",
         "78.0",
         "95.0",
         "94.0",
         "90.0",
         "96.0",
         "94.0",
         "84.0",
         "80.0",
         "61.0",
         "81.0",
         "49.0",
         "82.0",
         "56.0",
         "36.0",
         "89.0",
         "87.0",
         "81.0",
         "94.0",
         "27.0",
         "24.0",
         "33.0",
         "9.0",
         "9.0",
         "15.0",
         "15.0",
         "11.0",
         "€228.1M"
        ],
        [
         "3",
         "3",
         "193080",
         "De Gea",
         "27",
         "https://cdn.sofifa.org/players/4/19/193080.png",
         "Spain",
         "https://cdn.sofifa.org/flags/45.png",
         "91",
         "93",
         "Manchester United",
         "https://cdn.sofifa.org/teams/2/light/11.png",
         "€72M",
         "€260K",
         "1471",
         "Right",
         "4.0",
         "3.0",
         "1.0",
         "Medium/ Medium",
         "Lean",
         "Yes",
         "GK",
         "1.0",
         "Jul 1, 2011",
         null,
         "2020",
         "6'4",
         "168lbs",
         null,
         null,
         null,
         null,
         null,
         null,
         null,
         null,
         null,
         null,
         null,
         null,
         null,
         null,
         null,
         null,
         null,
         null,
         null,
         null,
         null,
         null,
         null,
         null,
         null,
         null,
         "17.0",
         "13.0",
         "21.0",
         "50.0",
         "13.0",
         "18.0",
         "21.0",
         "19.0",
         "51.0",
         "42.0",
         "57.0",
         "58.0",
         "60.0",
         "90.0",
         "43.0",
         "31.0",
         "67.0",
         "43.0",
         "64.0",
         "12.0",
         "38.0",
         "30.0",
         "12.0",
         "68.0",
         "40.0",
         "68.0",
         "15.0",
         "21.0",
         "13.0",
         "90.0",
         "85.0",
         "87.0",
         "88.0",
         "94.0",
         "€138.6M"
        ],
        [
         "4",
         "4",
         "192985",
         "K. De Bruyne",
         "27",
         "https://cdn.sofifa.org/players/4/19/192985.png",
         "Belgium",
         "https://cdn.sofifa.org/flags/7.png",
         "91",
         "92",
         "Manchester City",
         "https://cdn.sofifa.org/teams/2/light/10.png",
         "€102M",
         "€355K",
         "2281",
         "Right",
         "4.0",
         "5.0",
         "4.0",
         "High/ High",
         "Normal",
         "Yes",
         "RCM",
         "7.0",
         "Aug 30, 2015",
         null,
         "2023",
         "5'11",
         "154lbs",
         "82+3",
         "82+3",
         "82+3",
         "87+3",
         "87+3",
         "87+3",
         "87+3",
         "87+3",
         "88+3",
         "88+3",
         "88+3",
         "88+3",
         "87+3",
         "87+3",
         "87+3",
         "88+3",
         "77+3",
         "77+3",
         "77+3",
         "77+3",
         "77+3",
         "73+3",
         "66+3",
         "66+3",
         "66+3",
         "73+3",
         "93.0",
         "82.0",
         "55.0",
         "92.0",
         "82.0",
         "86.0",
         "85.0",
         "83.0",
         "91.0",
         "91.0",
         "78.0",
         "76.0",
         "79.0",
         "91.0",
         "77.0",
         "91.0",
         "63.0",
         "90.0",
         "75.0",
         "91.0",
         "76.0",
         "61.0",
         "87.0",
         "94.0",
         "79.0",
         "88.0",
         "68.0",
         "58.0",
         "51.0",
         "15.0",
         "13.0",
         "5.0",
         "10.0",
         "13.0",
         "€196.4M"
        ]
       ],
       "shape": {
        "columns": 89,
        "rows": 5
       }
      },
      "text/html": [
       "<div>\n",
       "<style scoped>\n",
       "    .dataframe tbody tr th:only-of-type {\n",
       "        vertical-align: middle;\n",
       "    }\n",
       "\n",
       "    .dataframe tbody tr th {\n",
       "        vertical-align: top;\n",
       "    }\n",
       "\n",
       "    .dataframe thead th {\n",
       "        text-align: right;\n",
       "    }\n",
       "</style>\n",
       "<table border=\"1\" class=\"dataframe\">\n",
       "  <thead>\n",
       "    <tr style=\"text-align: right;\">\n",
       "      <th></th>\n",
       "      <th>Unnamed: 0</th>\n",
       "      <th>ID</th>\n",
       "      <th>Name</th>\n",
       "      <th>Age</th>\n",
       "      <th>Photo</th>\n",
       "      <th>Nationality</th>\n",
       "      <th>Flag</th>\n",
       "      <th>Overall</th>\n",
       "      <th>Potential</th>\n",
       "      <th>Club</th>\n",
       "      <th>...</th>\n",
       "      <th>Composure</th>\n",
       "      <th>Marking</th>\n",
       "      <th>StandingTackle</th>\n",
       "      <th>SlidingTackle</th>\n",
       "      <th>GKDiving</th>\n",
       "      <th>GKHandling</th>\n",
       "      <th>GKKicking</th>\n",
       "      <th>GKPositioning</th>\n",
       "      <th>GKReflexes</th>\n",
       "      <th>Release Clause</th>\n",
       "    </tr>\n",
       "  </thead>\n",
       "  <tbody>\n",
       "    <tr>\n",
       "      <th>0</th>\n",
       "      <td>0</td>\n",
       "      <td>158023</td>\n",
       "      <td>L. Messi</td>\n",
       "      <td>31</td>\n",
       "      <td>https://cdn.sofifa.org/players/4/19/158023.png</td>\n",
       "      <td>Argentina</td>\n",
       "      <td>https://cdn.sofifa.org/flags/52.png</td>\n",
       "      <td>94</td>\n",
       "      <td>94</td>\n",
       "      <td>FC Barcelona</td>\n",
       "      <td>...</td>\n",
       "      <td>96.0</td>\n",
       "      <td>33.0</td>\n",
       "      <td>28.0</td>\n",
       "      <td>26.0</td>\n",
       "      <td>6.0</td>\n",
       "      <td>11.0</td>\n",
       "      <td>15.0</td>\n",
       "      <td>14.0</td>\n",
       "      <td>8.0</td>\n",
       "      <td>€226.5M</td>\n",
       "    </tr>\n",
       "    <tr>\n",
       "      <th>1</th>\n",
       "      <td>1</td>\n",
       "      <td>20801</td>\n",
       "      <td>Cristiano Ronaldo</td>\n",
       "      <td>33</td>\n",
       "      <td>https://cdn.sofifa.org/players/4/19/20801.png</td>\n",
       "      <td>Portugal</td>\n",
       "      <td>https://cdn.sofifa.org/flags/38.png</td>\n",
       "      <td>94</td>\n",
       "      <td>94</td>\n",
       "      <td>Juventus</td>\n",
       "      <td>...</td>\n",
       "      <td>95.0</td>\n",
       "      <td>28.0</td>\n",
       "      <td>31.0</td>\n",
       "      <td>23.0</td>\n",
       "      <td>7.0</td>\n",
       "      <td>11.0</td>\n",
       "      <td>15.0</td>\n",
       "      <td>14.0</td>\n",
       "      <td>11.0</td>\n",
       "      <td>€127.1M</td>\n",
       "    </tr>\n",
       "    <tr>\n",
       "      <th>2</th>\n",
       "      <td>2</td>\n",
       "      <td>190871</td>\n",
       "      <td>Neymar Jr</td>\n",
       "      <td>26</td>\n",
       "      <td>https://cdn.sofifa.org/players/4/19/190871.png</td>\n",
       "      <td>Brazil</td>\n",
       "      <td>https://cdn.sofifa.org/flags/54.png</td>\n",
       "      <td>92</td>\n",
       "      <td>93</td>\n",
       "      <td>Paris Saint-Germain</td>\n",
       "      <td>...</td>\n",
       "      <td>94.0</td>\n",
       "      <td>27.0</td>\n",
       "      <td>24.0</td>\n",
       "      <td>33.0</td>\n",
       "      <td>9.0</td>\n",
       "      <td>9.0</td>\n",
       "      <td>15.0</td>\n",
       "      <td>15.0</td>\n",
       "      <td>11.0</td>\n",
       "      <td>€228.1M</td>\n",
       "    </tr>\n",
       "    <tr>\n",
       "      <th>3</th>\n",
       "      <td>3</td>\n",
       "      <td>193080</td>\n",
       "      <td>De Gea</td>\n",
       "      <td>27</td>\n",
       "      <td>https://cdn.sofifa.org/players/4/19/193080.png</td>\n",
       "      <td>Spain</td>\n",
       "      <td>https://cdn.sofifa.org/flags/45.png</td>\n",
       "      <td>91</td>\n",
       "      <td>93</td>\n",
       "      <td>Manchester United</td>\n",
       "      <td>...</td>\n",
       "      <td>68.0</td>\n",
       "      <td>15.0</td>\n",
       "      <td>21.0</td>\n",
       "      <td>13.0</td>\n",
       "      <td>90.0</td>\n",
       "      <td>85.0</td>\n",
       "      <td>87.0</td>\n",
       "      <td>88.0</td>\n",
       "      <td>94.0</td>\n",
       "      <td>€138.6M</td>\n",
       "    </tr>\n",
       "    <tr>\n",
       "      <th>4</th>\n",
       "      <td>4</td>\n",
       "      <td>192985</td>\n",
       "      <td>K. De Bruyne</td>\n",
       "      <td>27</td>\n",
       "      <td>https://cdn.sofifa.org/players/4/19/192985.png</td>\n",
       "      <td>Belgium</td>\n",
       "      <td>https://cdn.sofifa.org/flags/7.png</td>\n",
       "      <td>91</td>\n",
       "      <td>92</td>\n",
       "      <td>Manchester City</td>\n",
       "      <td>...</td>\n",
       "      <td>88.0</td>\n",
       "      <td>68.0</td>\n",
       "      <td>58.0</td>\n",
       "      <td>51.0</td>\n",
       "      <td>15.0</td>\n",
       "      <td>13.0</td>\n",
       "      <td>5.0</td>\n",
       "      <td>10.0</td>\n",
       "      <td>13.0</td>\n",
       "      <td>€196.4M</td>\n",
       "    </tr>\n",
       "  </tbody>\n",
       "</table>\n",
       "<p>5 rows × 89 columns</p>\n",
       "</div>"
      ],
      "text/plain": [
       "   Unnamed: 0      ID               Name  Age  \\\n",
       "0           0  158023           L. Messi   31   \n",
       "1           1   20801  Cristiano Ronaldo   33   \n",
       "2           2  190871          Neymar Jr   26   \n",
       "3           3  193080             De Gea   27   \n",
       "4           4  192985       K. De Bruyne   27   \n",
       "\n",
       "                                            Photo Nationality  \\\n",
       "0  https://cdn.sofifa.org/players/4/19/158023.png   Argentina   \n",
       "1   https://cdn.sofifa.org/players/4/19/20801.png    Portugal   \n",
       "2  https://cdn.sofifa.org/players/4/19/190871.png      Brazil   \n",
       "3  https://cdn.sofifa.org/players/4/19/193080.png       Spain   \n",
       "4  https://cdn.sofifa.org/players/4/19/192985.png     Belgium   \n",
       "\n",
       "                                  Flag  Overall  Potential  \\\n",
       "0  https://cdn.sofifa.org/flags/52.png       94         94   \n",
       "1  https://cdn.sofifa.org/flags/38.png       94         94   \n",
       "2  https://cdn.sofifa.org/flags/54.png       92         93   \n",
       "3  https://cdn.sofifa.org/flags/45.png       91         93   \n",
       "4   https://cdn.sofifa.org/flags/7.png       91         92   \n",
       "\n",
       "                  Club  ... Composure Marking StandingTackle  SlidingTackle  \\\n",
       "0         FC Barcelona  ...      96.0    33.0           28.0           26.0   \n",
       "1             Juventus  ...      95.0    28.0           31.0           23.0   \n",
       "2  Paris Saint-Germain  ...      94.0    27.0           24.0           33.0   \n",
       "3    Manchester United  ...      68.0    15.0           21.0           13.0   \n",
       "4      Manchester City  ...      88.0    68.0           58.0           51.0   \n",
       "\n",
       "  GKDiving  GKHandling  GKKicking  GKPositioning GKReflexes Release Clause  \n",
       "0      6.0        11.0       15.0           14.0        8.0        €226.5M  \n",
       "1      7.0        11.0       15.0           14.0       11.0        €127.1M  \n",
       "2      9.0         9.0       15.0           15.0       11.0        €228.1M  \n",
       "3     90.0        85.0       87.0           88.0       94.0        €138.6M  \n",
       "4     15.0        13.0        5.0           10.0       13.0        €196.4M  \n",
       "\n",
       "[5 rows x 89 columns]"
      ]
     },
     "execution_count": 2,
     "metadata": {},
     "output_type": "execute_result"
    }
   ],
   "source": [
    "fifa = pd.read_csv('fifa_data.csv')\n",
    "fifa.head(5)"
   ]
  },
  {
   "cell_type": "markdown",
   "id": "c8252bea-2d96-4bdb-845b-10bffe28e3cc",
   "metadata": {},
   "source": [
    "## Histograms"
   ]
  },
  {
   "cell_type": "code",
   "execution_count": 3,
   "id": "38ee3216-b8bf-4ebe-9df1-4cbae683b0c5",
   "metadata": {},
   "outputs": [
    {
     "data": {
      "image/png": "[encoded data removed]",
      "text/plain": [
       "<Figure size 800x500 with 1 Axes>"
      ]
     },
     "metadata": {},
     "output_type": "display_data"
    }
   ],
   "source": [
    "bins = [40,50,60,70,80,90,100]\n",
    "plt.figure(figsize=(8,5))\n",
    "plt.hist(fifa.Overall, bins=bins, color='navy')\n",
    "plt.xticks(bins)\n",
    "\n",
    "plt.ylabel(\"Number of players\", fontdict={'fontname':'Myanmar Text', 'fontsize':16, 'color':'brown', 'fontweight':'bold'})\n",
    "plt.xlabel(\"Skill Level\", fontdict={'fontname':'Myanmar Text', 'fontsize':16, 'color':'brown', 'fontweight':'bold'})\n",
    "plt.title(\"Distribution of player skills in FIFA 2018\", fontdict={'fontname':'Myanmar Text', 'fontsize':20, 'color':'brown', 'fontweight':'bold'})\n",
    "\n",
    "plt.show()"
   ]
  },
  {
   "cell_type": "markdown",
   "id": "29931046-d914-4adb-b96c-bf2cbb3908bc",
   "metadata": {},
   "source": [
    "## Pie Charts"
   ]
  },
  {
   "cell_type": "code",
   "execution_count": 4,
   "id": "7945525a-ef11-40ff-9342-3c30c8210441",
   "metadata": {},
   "outputs": [
    {
     "data": {
      "image/png": "[encoded data removed]",
      "text/plain": [
       "<Figure size 700x700 with 1 Axes>"
      ]
     },
     "metadata": {},
     "output_type": "display_data"
    }
   ],
   "source": [
    "import matplotlib.pyplot as plt\n",
    "\n",
    "left = fifa.loc[fifa['Preferred Foot'] == 'Left'].shape[0]\n",
    "right = fifa.loc[fifa['Preferred Foot'] == 'Right'].shape[0]\n",
    "\n",
    "labels = ['Left-Footed', 'Right-Footed']\n",
    "colors = ['#5DADE2', '#F5B041']\n",
    "\n",
    "plt.figure(figsize=(7, 7))\n",
    "\n",
    "plt.pie([left, right], labels=labels, colors=colors, autopct='%.2f%%', \n",
    "        startangle=140, wedgeprops={'edgecolor': 'black', 'linewidth': 1.2})\n",
    "\n",
    "plt.title('Foot Preference of FIFA Players', fontsize=14, fontweight='bold', pad=15, color='darkblue')\n",
    "\n",
    "plt.show()\n"
   ]
  },
  {
   "cell_type": "code",
   "execution_count": 5,
   "id": "79a98911-fe10-427d-9f8b-9c2ab58f070f",
   "metadata": {},
   "outputs": [
    {
     "name": "stderr",
     "output_type": "stream",
     "text": [
      "C:\\Users\\Ken\\AppData\\Local\\Temp\\ipykernel_11448\\2824485931.py:7: FutureWarning: Series.__getitem__ treating keys as positions is deprecated. In a future version, integer keys will always be treated as labels (consistent with DataFrame behavior). To access a value by position, use `ser.iloc[pos]`\n",
      "  light = fifa.loc[fifa.Weight < 125].count()[0]\n",
      "C:\\Users\\Ken\\AppData\\Local\\Temp\\ipykernel_11448\\2824485931.py:8: FutureWarning: Series.__getitem__ treating keys as positions is deprecated. In a future version, integer keys will always be treated as labels (consistent with DataFrame behavior). To access a value by position, use `ser.iloc[pos]`\n",
      "  light_medium = fifa[(fifa.Weight >= 125) & (fifa.Weight < 150)].count()[0]\n",
      "C:\\Users\\Ken\\AppData\\Local\\Temp\\ipykernel_11448\\2824485931.py:9: FutureWarning: Series.__getitem__ treating keys as positions is deprecated. In a future version, integer keys will always be treated as labels (consistent with DataFrame behavior). To access a value by position, use `ser.iloc[pos]`\n",
      "  medium = fifa[(fifa.Weight >= 150) & (fifa.Weight < 175)].count()[0]\n",
      "C:\\Users\\Ken\\AppData\\Local\\Temp\\ipykernel_11448\\2824485931.py:10: FutureWarning: Series.__getitem__ treating keys as positions is deprecated. In a future version, integer keys will always be treated as labels (consistent with DataFrame behavior). To access a value by position, use `ser.iloc[pos]`\n",
      "  medium_heavy = fifa[(fifa.Weight >= 175) & (fifa.Weight < 200)].count()[0]\n",
      "C:\\Users\\Ken\\AppData\\Local\\Temp\\ipykernel_11448\\2824485931.py:11: FutureWarning: Series.__getitem__ treating keys as positions is deprecated. In a future version, integer keys will always be treated as labels (consistent with DataFrame behavior). To access a value by position, use `ser.iloc[pos]`\n",
      "  heavy = fifa[fifa.Weight >= 200].count()[0]\n"
     ]
    },
    {
     "data": {
      "image/png": "[encoded data removed]",
      "text/plain": [
       "<Figure size 800x500 with 1 Axes>"
      ]
     },
     "metadata": {},
     "output_type": "display_data"
    }
   ],
   "source": [
    "plt.figure(figsize=(8,5), dpi=100)\n",
    "\n",
    "plt.style.use('ggplot')\n",
    "\n",
    "fifa.Weight = [int(x.strip('lbs')) if type(x)==str else x for x in fifa.Weight]\n",
    "\n",
    "light = fifa.loc[fifa.Weight < 125].count()[0]\n",
    "light_medium = fifa[(fifa.Weight >= 125) & (fifa.Weight < 150)].count()[0]\n",
    "medium = fifa[(fifa.Weight >= 150) & (fifa.Weight < 175)].count()[0]\n",
    "medium_heavy = fifa[(fifa.Weight >= 175) & (fifa.Weight < 200)].count()[0]\n",
    "heavy = fifa[fifa.Weight >= 200].count()[0]\n",
    "\n",
    "weights = [light,light_medium, medium, medium_heavy, heavy]\n",
    "label = ['under 125', '125-150', '150-175', '175-200', 'over 200']\n",
    "explode = (.4,.2,0,0,.4)\n",
    "\n",
    "plt.title('Weight of Professional Soccer Players (lbs)')\n",
    "\n",
    "plt.pie(weights, labels=label, explode=explode, pctdistance=0.8,autopct='%.2f %%')\n",
    "plt.show()"
   ]
  },
  {
   "cell_type": "code",
   "execution_count": 6,
   "id": "e4bcd67e-5205-4908-aa50-657cff16bb40",
   "metadata": {},
   "outputs": [
    {
     "name": "stderr",
     "output_type": "stream",
     "text": [
      "C:\\Users\\Ken\\AppData\\Local\\Temp\\ipykernel_11448\\2245984300.py:10: MatplotlibDeprecationWarning: The 'labels' parameter of boxplot() has been renamed 'tick_labels' since Matplotlib 3.9; support for the old name will be dropped in 3.11.\n",
      "  bp = plt.boxplot([barcelona, madrid, revs], labels=['FC Barcelona','Real Madrid','NE Revolution'], patch_artist=True, medianprops={'linewidth': 2})\n"
     ]
    },
    {
     "data": {
      "image/png": "[encoded data removed]",
      "text/plain": [
       "<Figure size 500x800 with 1 Axes>"
      ]
     },
     "metadata": {},
     "output_type": "display_data"
    }
   ],
   "source": [
    "plt.figure(figsize=(5,8), dpi=100)\n",
    "\n",
    "plt.style.use('default')\n",
    "\n",
    "barcelona = fifa.loc[fifa.Club == \"FC Barcelona\"]['Overall']\n",
    "madrid = fifa.loc[fifa.Club == \"Real Madrid\"]['Overall']\n",
    "revs = fifa.loc[fifa.Club == \"New England Revolution\"]['Overall']\n",
    "\n",
    "#bp = plt.boxplot([barcelona, madrid, revs], labels=['a','b','c'], boxprops=dict(facecolor='red'))\n",
    "bp = plt.boxplot([barcelona, madrid, revs], labels=['FC Barcelona','Real Madrid','NE Revolution'], patch_artist=True, medianprops={'linewidth': 2})\n",
    "\n",
    "plt.title('Professional Soccer Team Comparison')\n",
    "plt.ylabel('FIFA Overall Rating')\n",
    "\n",
    "for box in bp['boxes']:\n",
    "    # change outline color\n",
    "    box.set(color='#4286f4', linewidth=2)\n",
    "    # change fill color\n",
    "    box.set(facecolor = '#e0e0e0' )\n",
    "    # change hatch\n",
    "    #box.set(hatch = '/')\n",
    "    \n",
    "plt.show()"
   ]
  },
  {
   "cell_type": "code",
   "execution_count": null,
   "id": "4aed8e54",
   "metadata": {},
   "outputs": [],
   "source": []
  },
  {
   "cell_type": "code",
   "execution_count": null,
   "id": "163d4afe",
   "metadata": {},
   "outputs": [],
   "source": []
  }
 ],
 "metadata": {
  "kernelspec": {
   "display_name": "base",
   "language": "python",
   "name": "python3"
  },
  "language_info": {
   "codemirror_mode": {
    "name": "ipython",
    "version": 3
   },
   "file_extension": ".py",
   "mimetype": "text/x-python",
   "name": "python",
   "nbconvert_exporter": "python",
   "pygments_lexer": "ipython3",
   "version": "3.12.7"
  }
 },
 "nbformat": 4,
 "nbformat_minor": 5
}
