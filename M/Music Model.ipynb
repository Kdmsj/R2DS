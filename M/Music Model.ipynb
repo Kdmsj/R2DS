{
 "cells": [
  {
   "cell_type": "code",
   "execution_count": 7,
   "id": "1e4146fc-34da-4254-8a53-33183e268abf",
   "metadata": {},
   "outputs": [],
   "source": [
    "import pandas as pd\n",
    "import sklearn.tree as skt\n",
    "music_data = pd.read_csv('music.csv')"
   ]
  },
  {
   "cell_type": "code",
   "execution_count": 10,
   "id": "65119d40-3150-4f2d-bfb6-1f2e699c3c5d",
   "metadata": {},
   "outputs": [
    {
     "name": "stderr",
     "output_type": "stream",
     "text": [
      "C:\\Users\\Ken\\anaconda3\\Lib\\site-packages\\sklearn\\base.py:493: UserWarning: X does not have valid feature names, but DecisionTreeClassifier was fitted with feature names\n",
      "  warnings.warn(\n"
     ]
    },
    {
     "data": {
      "text/plain": [
       "array(['HipHop', 'Dance'], dtype=object)"
      ]
     },
     "execution_count": 10,
     "metadata": {},
     "output_type": "execute_result"
    }
   ],
   "source": [
    "X = music_data.drop(columns=[\"genre\"])\n",
    "y = music_data['genre']\n",
    "\n",
    "model = skt.DecisionTreeClassifier()\n",
    "model.fit(X, y)\n",
    "predictions = model.predict([[21,1], [22,0]])\n",
    "predictions"
   ]
  },
  {
   "cell_type": "code",
   "execution_count": null,
   "id": "20fef6d2-0c5f-4ec3-aa22-59e32b2d9a97",
   "metadata": {},
   "outputs": [],
   "source": []
  }
 ],
 "metadata": {
  "kernelspec": {
   "display_name": "Python 3 (ipykernel)",
   "language": "python",
   "name": "python3"
  },
  "language_info": {
   "codemirror_mode": {
    "name": "ipython",
    "version": 3
   },
   "file_extension": ".py",
   "mimetype": "text/x-python",
   "name": "python",
   "nbconvert_exporter": "python",
   "pygments_lexer": "ipython3",
   "version": "3.12.7"
  }
 },
 "nbformat": 4,
 "nbformat_minor": 5
}
