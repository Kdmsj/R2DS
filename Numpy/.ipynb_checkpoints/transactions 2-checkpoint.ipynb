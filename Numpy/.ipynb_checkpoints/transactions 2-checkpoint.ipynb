{
 "cells": [
  {
   "cell_type": "code",
   "execution_count": 3,
   "id": "6a36ecc8-9c11-4606-b69c-8bf41c3bfe28",
   "metadata": {},
   "outputs": [],
   "source": [
    "import numpy as np"
   ]
  },
  {
   "cell_type": "code",
   "execution_count": 10,
   "id": "9e0bd2c0-4e3f-4a21-9bd5-976a57e013a4",
   "metadata": {},
   "outputs": [],
   "source": [
    "try:\n",
    "    files = np.genfromtxt('rere.txt', delimiter='-', dtype=int)\n",
    "except Exception as e:\n",
    "    print(f\"Error loading file: {e}\")"
   ]
  },
  {
   "cell_type": "code",
   "execution_count": 11,
   "id": "a6ac3d72-77a5-4901-8ef3-04f0b7af71dd",
   "metadata": {},
   "outputs": [
    {
     "name": "stdout",
     "output_type": "stream",
     "text": [
      "3035\n"
     ]
    }
   ],
   "source": [
    "if files.ndim > 1:  \n",
    "    transactions = files[:, 1:]  # Fix slicing\n",
    "    total_sum = transactions.sum()  # Correct summation\n",
    "    print(total_sum)\n",
    "else:\n",
    "    print(\"Error: File does not contain enough columns.\")"
   ]
  },
  {
   "cell_type": "code",
   "execution_count": null,
   "id": "32ea0586-b1f0-4edb-a398-6995a39d38dd",
   "metadata": {},
   "outputs": [],
   "source": []
  }
 ],
 "metadata": {
  "kernelspec": {
   "display_name": "Python 3 (ipykernel)",
   "language": "python",
   "name": "python3"
  },
  "language_info": {
   "codemirror_mode": {
    "name": "ipython",
    "version": 3
   },
   "file_extension": ".py",
   "mimetype": "text/x-python",
   "name": "python",
   "nbconvert_exporter": "python",
   "pygments_lexer": "ipython3",
   "version": "3.12.7"
  }
 },
 "nbformat": 4,
 "nbformat_minor": 5
}
