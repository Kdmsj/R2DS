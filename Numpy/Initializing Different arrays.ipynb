{
 "cells": [
  {
   "cell_type": "markdown",
   "id": "473d6754-c4ef-4b85-b33b-b5dd4ed07ac2",
   "metadata": {},
   "source": [
    "**All Zeros's**"
   ]
  },
  {
   "cell_type": "code",
   "execution_count": 2,
   "id": "c58760b0-5c44-48b7-8fbf-da89b5863874",
   "metadata": {},
   "outputs": [
    {
     "data": {
      "text/plain": [
       "array([[0., 0., 0.],\n",
       "       [0., 0., 0.]])"
      ]
     },
     "execution_count": 2,
     "metadata": {},
     "output_type": "execute_result"
    }
   ],
   "source": [
    "import numpy as np\n",
    "np.zeros((2,3))\n"
   ]
  },
  {
   "cell_type": "markdown",
   "id": "1e349936-964a-40ed-a9d2-f591695e4ce9",
   "metadata": {},
   "source": [
    "**All Ones**"
   ]
  },
  {
   "cell_type": "code",
   "execution_count": 6,
   "id": "366aa0a4-8de7-435b-baa5-62e2281ed6e7",
   "metadata": {},
   "outputs": [
    {
     "data": {
      "text/plain": [
       "array([[[1., 1.],\n",
       "        [1., 1.]],\n",
       "\n",
       "       [[1., 1.],\n",
       "        [1., 1.]],\n",
       "\n",
       "       [[1., 1.],\n",
       "        [1., 1.]],\n",
       "\n",
       "       [[1., 1.],\n",
       "        [1., 1.]]])"
      ]
     },
     "execution_count": 6,
     "metadata": {},
     "output_type": "execute_result"
    }
   ],
   "source": [
    "np.ones((4,2,2))"
   ]
  },
  {
   "cell_type": "code",
   "execution_count": 7,
   "id": "613143e9-a460-472d-a0df-5d2b3946466d",
   "metadata": {},
   "outputs": [
    {
     "data": {
      "text/plain": [
       "array([[34, 34],\n",
       "       [34, 34]])"
      ]
     },
     "execution_count": 7,
     "metadata": {},
     "output_type": "execute_result"
    }
   ],
   "source": [
    "np.full((2,2), 34)"
   ]
  },
  {
   "cell_type": "code",
   "execution_count": 8,
   "id": "9a1e7c36-36a3-4ca6-93ac-78aa22631ba1",
   "metadata": {},
   "outputs": [
    {
     "data": {
      "text/plain": [
       "array([[4, 4, 4, 4, 4],\n",
       "       [4, 4, 4, 4, 4]])"
      ]
     },
     "execution_count": 8,
     "metadata": {},
     "output_type": "execute_result"
    }
   ],
   "source": [
    " a = ([[1,2,3,4,4],[1,2,3,4,5]])\n",
    "np.full_like(a,4)"
   ]
  },
  {
   "cell_type": "code",
   "execution_count": 10,
   "id": "dc63a123-e2d4-45a8-a1bd-00c1d806a89b",
   "metadata": {},
   "outputs": [
    {
     "data": {
      "text/plain": [
       "array([[[0.70078969, 0.02153408, 0.57859957, 0.98150306],\n",
       "        [0.38134504, 0.030393  , 0.59707469, 0.03186887],\n",
       "        [0.78338051, 0.37947355, 0.90795203, 0.50229778]],\n",
       "\n",
       "       [[0.43592255, 0.77101691, 0.37127622, 0.28358652],\n",
       "        [0.79679379, 0.09827497, 0.78569091, 0.66186478],\n",
       "        [0.8710538 , 0.54813824, 0.8275695 , 0.82592631]]])"
      ]
     },
     "execution_count": 10,
     "metadata": {},
     "output_type": "execute_result"
    }
   ],
   "source": [
    "np.random.rand(2,3,4)\n"
   ]
  },
  {
   "cell_type": "code",
   "execution_count": 20,
   "id": "6eb40d5a-ba19-4180-b734-d87e112219ca",
   "metadata": {},
   "outputs": [
    {
     "data": {
      "text/plain": [
       "array([[ 4, -4, -5],\n",
       "       [ 4,  7, -5],\n",
       "       [ 8,  3,  4]])"
      ]
     },
     "execution_count": 20,
     "metadata": {},
     "output_type": "execute_result"
    }
   ],
   "source": [
    "np.random.randint(-5, 9, size = (3,3))"
   ]
  },
  {
   "cell_type": "code",
   "execution_count": 21,
   "id": "e2482e84-a306-4a92-bd75-f688624a3abc",
   "metadata": {},
   "outputs": [
    {
     "data": {
      "text/plain": [
       "array([[1., 0., 0., 0., 0., 0.],\n",
       "       [0., 1., 0., 0., 0., 0.],\n",
       "       [0., 0., 1., 0., 0., 0.],\n",
       "       [0., 0., 0., 1., 0., 0.],\n",
       "       [0., 0., 0., 0., 1., 0.],\n",
       "       [0., 0., 0., 0., 0., 1.]])"
      ]
     },
     "execution_count": 21,
     "metadata": {},
     "output_type": "execute_result"
    }
   ],
   "source": [
    "#identity matrix\n",
    "np.identity(6)"
   ]
  },
  {
   "cell_type": "code",
   "execution_count": 27,
   "id": "d899b344-b8c7-4922-9940-ab7fb8bf0435",
   "metadata": {},
   "outputs": [
    {
     "name": "stdout",
     "output_type": "stream",
     "text": [
      "[[1 2 3]\n",
      " [1 2 3]\n",
      " [1 2 3]]\n"
     ]
    }
   ],
   "source": [
    "#repeating an array\n",
    "ar = np.array([[1,2,3]])\n",
    "r1 = np.repeat(ar,3,axis=0)\n",
    "print(r1)"
   ]
  },
  {
   "cell_type": "code",
   "execution_count": 47,
   "id": "0ed79790-cdd2-4909-87e5-d66866cf48ec",
   "metadata": {},
   "outputs": [
    {
     "name": "stdout",
     "output_type": "stream",
     "text": [
      "[[1. 1. 1. 1. 1.]\n",
      " [1. 0. 0. 0. 1.]\n",
      " [1. 0. 9. 0. 1.]\n",
      " [1. 0. 0. 0. 1.]\n",
      " [1. 1. 1. 1. 1.]]\n"
     ]
    }
   ],
   "source": [
    "#Exercise from tutorial\n",
    "ed = np.ones((5,5))\n",
    "ed[1:-1,1:-1] = 0\n",
    "ed[2,2] = 9\n",
    "print(ed)"
   ]
  },
  {
   "cell_type": "markdown",
   "id": "9d0912fc-b0c3-42f0-a5b5-ce6d8ce55040",
   "metadata": {},
   "source": [
    "##### Be careful when copying arrays #####\n"
   ]
  },
  {
   "cell_type": "code",
   "execution_count": 48,
   "id": "10ff5e83-4d3a-4eb3-bfd0-a2900926b017",
   "metadata": {},
   "outputs": [
    {
     "name": "stdout",
     "output_type": "stream",
     "text": [
      "[100   2   3]\n",
      "[100   2   3]\n"
     ]
    }
   ],
   "source": [
    "a = np.array([1,2,3])\n",
    "b = a\n",
    "b[0] = 100\n",
    "print(a)\n",
    "print(b)"
   ]
  },
  {
   "cell_type": "code",
   "execution_count": 52,
   "id": "ea5e772d-ba51-42b9-a5c6-bd3511137872",
   "metadata": {},
   "outputs": [
    {
     "name": "stdout",
     "output_type": "stream",
     "text": [
      "[1 2 3]\n",
      "[100   2   3]\n"
     ]
    }
   ],
   "source": [
    "c = np.array([1,2,3])\n",
    "d = c.copy()\n",
    "d[0] = 100\n",
    "print(c)\n",
    "print(d)"
   ]
  }
 ],
 "metadata": {
  "kernelspec": {
   "display_name": "Python 3 (ipykernel)",
   "language": "python",
   "name": "python3"
  },
  "language_info": {
   "codemirror_mode": {
    "name": "ipython",
    "version": 3
   },
   "file_extension": ".py",
   "mimetype": "text/x-python",
   "name": "python",
   "nbconvert_exporter": "python",
   "pygments_lexer": "ipython3",
   "version": "3.12.7"
  }
 },
 "nbformat": 4,
 "nbformat_minor": 5
}
