{
 "cells": [
  {
   "cell_type": "code",
   "execution_count": 2,
   "id": "1e4146fc-34da-4254-8a53-33183e268abf",
   "metadata": {},
   "outputs": [],
   "source": [
    "import pandas as pd\n",
    "music_data = pd.read_csv('music.csv')"
   ]
  },
  {
   "cell_type": "code",
   "execution_count": null,
   "id": "65119d40-3150-4f2d-bfb6-1f2e699c3c5d",
   "metadata": {},
   "outputs": [],
   "source": [
    "s"
   ]
  }
 ],
 "metadata": {
  "kernelspec": {
   "display_name": "Python 3 (ipykernel)",
   "language": "python",
   "name": "python3"
  },
  "language_info": {
   "codemirror_mode": {
    "name": "ipython",
    "version": 3
   },
   "file_extension": ".py",
   "mimetype": "text/x-python",
   "name": "python",
   "nbconvert_exporter": "python",
   "pygments_lexer": "ipython3",
   "version": "3.12.7"
  }
 },
 "nbformat": 4,
 "nbformat_minor": 5
}
